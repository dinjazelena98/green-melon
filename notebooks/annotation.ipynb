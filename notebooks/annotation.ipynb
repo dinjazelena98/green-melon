{
 "cells": [
  {
   "cell_type": "code",
   "execution_count": 1,
   "id": "6241f2ca-ed18-406c-82b5-8c981c7eaf48",
   "metadata": {},
   "outputs": [],
   "source": [
    "# COCO format\n",
    "\n",
    "# [x, y, width, height]\n",
    "# x, y -> The top-left corner of the bounding box in aboslute pixel values\n",
    "# width, height -> The width and the height of the bounding box in pixels"
   ]
  },
  {
   "cell_type": "code",
   "execution_count": 2,
   "id": "b93b657a-4fbb-4080-bd57-309763396e6c",
   "metadata": {},
   "outputs": [],
   "source": [
    "# PASCAL format\n",
    "\n",
    "# [xmin, ymin, xmax, ymax]\n",
    "# xmin, ymin: The top-left corner of the bounding box\n",
    "# ymin, ymax: The bottom-right corner of the bounding box"
   ]
  },
  {
   "cell_type": "code",
   "execution_count": 3,
   "id": "d7dd0899-3071-4bb1-af3e-74a43933b058",
   "metadata": {},
   "outputs": [],
   "source": [
    "# YOLO format\n",
    "\n",
    "# [class, x_center, y_center, width, height]\n",
    "\n",
    "# x_center, y_center: The center of the bounding box, normalized bt the image's width and height(between 0 and 1)\n",
    "# width, height: The width and height of the bounding box, normalized by image's width and height.\n",
    "# class: The class inde for the object(zero-indexed)"
   ]
  },
  {
   "cell_type": "code",
   "execution_count": null,
   "id": "440a535c-d16d-4898-94bf-ac8915c36b5f",
   "metadata": {},
   "outputs": [],
   "source": [
    "# For example if i have PASCAL coordinates with [300, 200, 500, 400] and image dimensions: (800, 600)\n",
    "# I would calculate YOLO coordinates like this:\n",
    "# xmin=300, ymin=200, xmax=500, ymax=400, width=800, height=600\n",
    "\n",
    "# width = (500 - 300) / 800 ; width of the box is xmax - xmin; then we normalize\n",
    "# height = (400 - 200) / 600 ; height of the box is ymax - ymin; then we normalize\n",
    "# x_center = (500 + 300) / 2 / 800 ; x center coordinates are mid point of bounding box so we do average of xmax and xmin; then we normalize\n",
    "# y_center = (400 + 200) / 2 / 600 ; y center coordinates are mid point of bounding box so we do average of ymax and ymin; then we normalize"
   ]
  },
  {
   "cell_type": "code",
   "execution_count": null,
   "id": "6867c14d-fac8-4d18-a574-734ee248e312",
   "metadata": {},
   "outputs": [],
   "source": [
    "# For example if i have PASCAL coordinates with [300, 200, 500, 400] and image dimensions: (800, 600)\n",
    "# I would calculate YOLO coordinates like this:\n",
    "# xmin=300, ymin=200, xmax=500, ymax=400, width=800, height=600\n",
    "\n",
    "# x = xmin; top left corner x coordinate of bounding box\n",
    "# y = ymin; top left corner y coorindates of bounding box\n",
    "# width = xmax - xmin\n",
    "# height = ymax - ymin"
   ]
  },
  {
   "cell_type": "code",
   "execution_count": null,
   "id": "6e5861c6-af3f-48a2-8c77-4ea6759c8706",
   "metadata": {},
   "outputs": [],
   "source": []
  },
  {
   "cell_type": "code",
   "execution_count": null,
   "id": "ef4088a9-1a68-4f04-adf2-20eecdc6d62a",
   "metadata": {},
   "outputs": [],
   "source": []
  },
  {
   "cell_type": "code",
   "execution_count": null,
   "id": "2520dd17-b543-42d7-bccd-380ff4fda3d3",
   "metadata": {},
   "outputs": [],
   "source": []
  },
  {
   "cell_type": "code",
   "execution_count": null,
   "id": "7f23bd3a-4e5c-4200-a6d6-2663b308679f",
   "metadata": {},
   "outputs": [],
   "source": []
  },
  {
   "cell_type": "code",
   "execution_count": null,
   "id": "bd5fb138-e9bb-47b1-913f-5db40864f8ae",
   "metadata": {},
   "outputs": [],
   "source": []
  },
  {
   "cell_type": "code",
   "execution_count": null,
   "id": "74a0e773-a64f-44bd-9321-acae8751dbf0",
   "metadata": {},
   "outputs": [],
   "source": []
  },
  {
   "cell_type": "code",
   "execution_count": null,
   "id": "88589df1-f88b-48c6-b3f3-ae7f4d956eb0",
   "metadata": {},
   "outputs": [],
   "source": []
  }
 ],
 "metadata": {
  "kernelspec": {
   "display_name": "Python 3 (ipykernel)",
   "language": "python",
   "name": "python3"
  },
  "language_info": {
   "codemirror_mode": {
    "name": "ipython",
    "version": 3
   },
   "file_extension": ".py",
   "mimetype": "text/x-python",
   "name": "python",
   "nbconvert_exporter": "python",
   "pygments_lexer": "ipython3",
   "version": "3.12.8"
  }
 },
 "nbformat": 4,
 "nbformat_minor": 5
}
